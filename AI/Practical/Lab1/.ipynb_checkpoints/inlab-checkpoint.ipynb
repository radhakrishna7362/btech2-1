{
 "cells": [
  {
   "cell_type": "code",
   "execution_count": 2,
   "metadata": {},
   "outputs": [
    {
     "name": "stdout",
     "output_type": "stream",
     "text": [
      "Hi I am student advisor chat Bot.\n",
      "May I know your name?\n",
      "radha\n",
      "Thank You radha\n",
      "I am here to explore you about the core courses required for the specialization's offered in KL University. Cse Dept\n",
      "1. Software Modelling & DevOps\n",
      "2. Internet of Things\n",
      "3. Cloud & Edge Computing\n",
      "4. Graphics, Gaming &UX Design\n",
      "5. Cyber Security & Blockchain Technology\n",
      "6. Artificial Intelligence & Intelligence Process Automation\n",
      "7. Data Science & Big Data Analytics\n",
      "8. Computer Communications\n",
      "9.Exit\n",
      "\n",
      "These are the specialization's offered by KL CSE.Choose any specialization.(select any option)\n",
      "Choose any option: 1\n"
     ]
    },
    {
     "ename": "NameError",
     "evalue": "name 'dict1' is not defined",
     "output_type": "error",
     "traceback": [
      "\u001b[1;31m---------------------------------------------------------------------------\u001b[0m",
      "\u001b[1;31mNameError\u001b[0m                                 Traceback (most recent call last)",
      "\u001b[1;32m<ipython-input-2-31165d09e1ec>\u001b[0m in \u001b[0;36m<module>\u001b[1;34m\u001b[0m\n\u001b[0;32m     31\u001b[0m     \u001b[0mprint\u001b[0m\u001b[1;33m(\u001b[0m\u001b[1;34m\"These are the specialization's offered by KL CSE.Choose any specialization.(select any option)\"\u001b[0m\u001b[1;33m)\u001b[0m\u001b[1;33m\u001b[0m\u001b[1;33m\u001b[0m\u001b[0m\n\u001b[0;32m     32\u001b[0m     \u001b[0mx\u001b[0m\u001b[1;33m=\u001b[0m\u001b[0mint\u001b[0m\u001b[1;33m(\u001b[0m\u001b[0minput\u001b[0m\u001b[1;33m(\u001b[0m\u001b[1;34m\"Choose any option: \"\u001b[0m\u001b[1;33m)\u001b[0m\u001b[1;33m)\u001b[0m\u001b[1;33m;\u001b[0m\u001b[1;33m\u001b[0m\u001b[1;33m\u001b[0m\u001b[0m\n\u001b[1;32m---> 33\u001b[1;33m     \u001b[1;32mif\u001b[0m\u001b[1;33m(\u001b[0m\u001b[0mfunc\u001b[0m\u001b[1;33m(\u001b[0m\u001b[0mx\u001b[0m\u001b[1;33m)\u001b[0m\u001b[1;33m==\u001b[0m\u001b[1;32mFalse\u001b[0m\u001b[1;33m)\u001b[0m\u001b[1;33m:\u001b[0m\u001b[1;33m\u001b[0m\u001b[1;33m\u001b[0m\u001b[0m\n\u001b[0m\u001b[0;32m     34\u001b[0m         \u001b[1;32mbreak\u001b[0m\u001b[1;33m;\u001b[0m\u001b[1;33m\u001b[0m\u001b[1;33m\u001b[0m\u001b[0m\n\u001b[0;32m     35\u001b[0m     \u001b[1;32melse\u001b[0m\u001b[1;33m:\u001b[0m\u001b[1;33m\u001b[0m\u001b[1;33m\u001b[0m\u001b[0m\n",
      "\u001b[1;32m<ipython-input-2-31165d09e1ec>\u001b[0m in \u001b[0;36mfunc\u001b[1;34m(x)\u001b[0m\n\u001b[0;32m     14\u001b[0m \u001b[1;32mdef\u001b[0m \u001b[0mfunc\u001b[0m\u001b[1;33m(\u001b[0m\u001b[0mx\u001b[0m\u001b[1;33m)\u001b[0m\u001b[1;33m:\u001b[0m\u001b[1;33m\u001b[0m\u001b[1;33m\u001b[0m\u001b[0m\n\u001b[0;32m     15\u001b[0m     switcher = {\n\u001b[1;32m---> 16\u001b[1;33m         \u001b[1;36m1\u001b[0m\u001b[1;33m:\u001b[0m \u001b[0mdict1\u001b[0m\u001b[1;33m,\u001b[0m\u001b[1;33m\u001b[0m\u001b[1;33m\u001b[0m\u001b[0m\n\u001b[0m\u001b[0;32m     17\u001b[0m         \u001b[1;36m2\u001b[0m\u001b[1;33m:\u001b[0m \u001b[0mdict2\u001b[0m\u001b[1;33m,\u001b[0m\u001b[1;33m\u001b[0m\u001b[1;33m\u001b[0m\u001b[0m\n\u001b[0;32m     18\u001b[0m         \u001b[1;36m3\u001b[0m\u001b[1;33m:\u001b[0m \u001b[0mdict3\u001b[0m\u001b[1;33m,\u001b[0m\u001b[1;33m\u001b[0m\u001b[1;33m\u001b[0m\u001b[0m\n",
      "\u001b[1;31mNameError\u001b[0m: name 'dict1' is not defined"
     ]
    }
   ],
   "source": [
    "print(\"Hi I am student advisor chat Bot.\\nMay I know your name?\")\n",
    "str=input();\n",
    "print(\"Thank You\", str);\n",
    "print(\"I am here to explore you about the core courses required for the specialization's offered in KL University. Cse Dept\")\n",
    "dic1={\"Global certication\":\"Professional Scrum Master\",\"Core Course in 1st Sem\":\"Software Engneering\"}\n",
    "dic2={\"Global certication\":\"None\",\"Core Course in 1st Sem\":\"None\"}\n",
    "dic3={\"Global certication\":\"Linux Essential(010-160)\",\"Core Course in 1st Sem\":\"Operating Systems\"}\n",
    "dic4={\"Global certication\":\"Unity Developer Advance Certification\",\"Core Course in 1st Sem\":\"Enterprise Programming\"}\n",
    "dic5={\"Global certication\":\"ETHEREUM Developer Advance Certification\",\"Core Course in 1st Sem\":\"Computer Networks\"}\n",
    "dic6={\"Global certication\":\"PCAP|CertifiedAssociatePythonProgramming\",\"Core Course in 1st Sem\":\"AI & Mathematical Programming\"}\n",
    "dic7={\"Global certication\":\"C100DEV:MangoDB certified DeveloperAssociate\",\"Core Course in 1st Sem\":\"Data Base Managements System\"}\n",
    "dic8={\"Global certication\":\"None\",\"Core Course in 1st Sem\":\"None\"}\n",
    "\n",
    "def func(x):\n",
    "    switcher = {\n",
    "        1: dic1,\n",
    "        2: dic2,\n",
    "        3: dic3,\n",
    "        4: dic4,\n",
    "        5: dic5,\n",
    "        6: dic6,\n",
    "        7: dic7,\n",
    "        8: dic8\n",
    "    }\n",
    "    return switcher.get(x,False);\n",
    "\n",
    "while(True):\n",
    "    print(\"1. Software Modelling & DevOps\\n2. Internet of Things\\n3. Cloud & Edge Computing\\n4. Graphics, Gaming &UX Design\")\n",
    "    print(\"5. Cyber Security & Blockchain Technology\\n6. Artificial Intelligence & Intelligence Process Automation\")\n",
    "    print(\"7. Data Science & Big Data Analytics\\n8. Computer Communications\\n9.Exit\\n\");\n",
    "    print(\"These are the specialization's offered by KL CSE.Choose any specialization.(select any option)\")\n",
    "    x=int(input(\"Choose any option: \"));\n",
    "    if(func(x)==False):\n",
    "        break;\n",
    "    else:\n",
    "        print(func(x));"
   ]
  },
  {
   "cell_type": "code",
   "execution_count": null,
   "metadata": {},
   "outputs": [],
   "source": []
  }
 ],
 "metadata": {
  "kernelspec": {
   "display_name": "Python 3",
   "language": "python",
   "name": "python3"
  },
  "language_info": {
   "codemirror_mode": {
    "name": "ipython",
    "version": 3
   },
   "file_extension": ".py",
   "mimetype": "text/x-python",
   "name": "python",
   "nbconvert_exporter": "python",
   "pygments_lexer": "ipython3",
   "version": "3.7.3"
  }
 },
 "nbformat": 4,
 "nbformat_minor": 2
}

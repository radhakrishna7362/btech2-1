{
 "cells": [
  {
   "cell_type": "code",
   "execution_count": 4,
   "metadata": {},
   "outputs": [
    {
     "name": "stdout",
     "output_type": "stream",
     "text": [
      "Hi I am student advisor chat Bot.\n",
      "May I know your name?\n",
      "radha\n",
      "Thank You radha\n",
      "I am here to explore you about the core courses required for the specialization's offered in KL University. Cse Dept\n",
      "1. Software Modelling & DevOps\n",
      "2. Internet of Things\n",
      "3. Cloud & Edge Computing\n",
      "4. Graphics, Gaming &UX Design\n",
      "5. Cyber Security & Blockchain Technology\n",
      "6. Artificial Intelligence & Intelligence Process Automation\n",
      "7. Data Science & Big Data Analytics\n",
      "8. Computer Communications\n",
      "9.Exit\n",
      "\n",
      "These are the specialization's offered by KL CSE.Choose any specialization.(select any option)\n",
      "Choose any option: 1\n",
      "{'Global certication': 'Professional Scrum Master', 'Core Course in 1st Sem': 'Software Engneering'}\n",
      "1. Software Modelling & DevOps\n",
      "2. Internet of Things\n",
      "3. Cloud & Edge Computing\n",
      "4. Graphics, Gaming &UX Design\n",
      "5. Cyber Security & Blockchain Technology\n",
      "6. Artificial Intelligence & Intelligence Process Automation\n",
      "7. Data Science & Big Data Analytics\n",
      "8. Computer Communications\n",
      "9.Exit\n",
      "\n",
      "These are the specialization's offered by KL CSE.Choose any specialization.(select any option)\n",
      "Choose any option: 9\n"
     ]
    }
   ],
   "source": [
    "print(\"Hi I am student advisor chat Bot.\\nMay I know your name?\")\n",
    "str=input();\n",
    "print(\"Thank You\", str);\n",
    "print(\"I am here to explore you about the core courses required for the specialization's offered in KL University. Cse Dept\")\n",
    "dic1={\"Global certication\":\"Professional Scrum Master\",\"Core Course in 1st Sem\":\"Software Engneering\"}\n",
    "dic2={\"Global certication\":\"None\",\"Core Course in 1st Sem\":\"None\"}\n",
    "dic3={\"Global certication\":\"Linux Essential(010-160)\",\"Core Course in 1st Sem\":\"Operating Systems\"}\n",
    "dic4={\"Global certication\":\"Unity Developer Advance Certification\",\"Core Course in 1st Sem\":\"Enterprise Programming\"}\n",
    "dic5={\"Global certication\":\"ETHEREUM Developer Advance Certification\",\"Core Course in 1st Sem\":\"Computer Networks\"}\n",
    "dic6={\"Global certication\":\"PCAP|CertifiedAssociatePythonProgramming\",\"Core Course in 1st Sem\":\"AI & Mathematical Programming\"}\n",
    "dic7={\"Global certication\":\"C100DEV:MangoDB certified DeveloperAssociate\",\"Core Course in 1st Sem\":\"Data Base Managements System\"}\n",
    "dic8={\"Global certication\":\"None\",\"Core Course in 1st Sem\":\"None\"}\n",
    "\n",
    "def func(x):\n",
    "    switcher = {\n",
    "        1: dic1,\n",
    "        2: dic2,\n",
    "        3: dic3,\n",
    "        4: dic4,\n",
    "        5: dic5,\n",
    "        6: dic6,\n",
    "        7: dic7,\n",
    "        8: dic8\n",
    "    }\n",
    "    return switcher.get(x,False);\n",
    "\n",
    "while(True):\n",
    "    print(\"1. Software Modelling & DevOps\\n2. Internet of Things\\n3. Cloud & Edge Computing\\n4. Graphics, Gaming &UX Design\")\n",
    "    print(\"5. Cyber Security & Blockchain Technology\\n6. Artificial Intelligence & Intelligence Process Automation\")\n",
    "    print(\"7. Data Science & Big Data Analytics\\n8. Computer Communications\\n9.Exit\\n\");\n",
    "    print(\"These are the specialization's offered by KL CSE.Choose any specialization.(select any option)\")\n",
    "    x=int(input(\"Choose any option: \"));\n",
    "    if(func(x)==False):\n",
    "        break;\n",
    "    else:\n",
    "        print(func(x));"
   ]
  },
  {
   "cell_type": "code",
   "execution_count": null,
   "metadata": {},
   "outputs": [],
   "source": []
  }
 ],
 "metadata": {
  "kernelspec": {
   "display_name": "Python 2",
   "language": "python",
   "name": "python2"
  },
  "language_info": {
   "codemirror_mode": {
    "name": "ipython",
    "version": 2
   },
   "file_extension": ".py",
   "mimetype": "text/x-python",
   "name": "python",
   "nbconvert_exporter": "python",
   "pygments_lexer": "ipython2",
   "version": "2.7.16"
  }
 },
 "nbformat": 4,
 "nbformat_minor": 2
}

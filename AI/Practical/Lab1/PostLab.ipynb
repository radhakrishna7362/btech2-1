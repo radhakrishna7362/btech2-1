{
 "cells": [
  {
   "cell_type": "code",
   "execution_count": 1,
   "metadata": {},
   "outputs": [
    {
     "name": "stdout",
     "output_type": "stream",
     "text": [
      "Hello I am Chatty Here to help You\n",
      "May I know your good name?\n",
      "radha\n",
      "Hello radha\n",
      "Do you want to know your age in years,days,hours,minutes,sec you live till now?yes\n",
      "Date: 20\n",
      "Month: 10\n",
      "Year: 2002\n",
      "17 years\n",
      "6499 days\n",
      "155976 hours\n",
      "9358560 minutes\n",
      "561513600 seconds\n",
      "Can I know your favourite Colorpink\n",
      "Pink, a delicate color that means sweet,charming\n",
      "It's time to say bye\n",
      "I hope you enjoy well\n"
     ]
    }
   ],
   "source": [
    "from datetime import date\n",
    "\n",
    "today=date.today()\n",
    "\n",
    "print(\"Hello I am Chatty Here to help You\")\n",
    "print(\"May I know your good name?\")\n",
    "str=input()\n",
    "print(\"Hello\",str)\n",
    "choice=input(\"Do you want to know your age in years,days,hours,minutes,sec you live till now?\")\n",
    "if(choice.lower()==\"yes\" or choice.lower() ==\"y\"):        \n",
    "    day=int(input(\"Date: \"))\n",
    "    month=int(input(\"Month: \"))\n",
    "    year=int(input(\"Year: \"))\n",
    "    dob=date(year,month,day)\n",
    "    now=date.today()\n",
    "    if(today.month<dob.month):\n",
    "        print(today.year-dob.year-1,\"years\")\n",
    "    elif(today.month==dob.month and today.day<dob.day):\n",
    "        print(today.year-dob.year-1,\"years\")\n",
    "    else:\n",
    "        print(today.year-dob.year,\"years\")\n",
    "    diff=now-dob\n",
    "    print(diff.days,\"days\")\n",
    "    print(diff.days*24,\"hours\")\n",
    "    print(diff.days*24*60,\"minutes\")\n",
    "    print(diff.days*24*60*60,\"seconds\")\n",
    "    color=input(\"Can I know your favourite Color\")\n",
    "    if(color.upper()==\"BLUE\"):\n",
    "        print(\"Blue is the color of sea and sky. It is often associated with depth and stability\")\n",
    "    if(color.upper()==\"RED\"):\n",
    "        print(\"Red is the color of blood\")\n",
    "    if(color.upper()==\"GREEN\"):\n",
    "        print(\"Green is the color of nature\")\n",
    "    if(color.upper()==\"PINK\"):\n",
    "        print(\"Pink, a delicate color that means sweet,charming\")\n",
    "    print(\"It's time to say bye\")\n",
    "    print(\"I hope you enjoy well\")\n",
    "else:\n",
    "    print(\"Byee\")"
   ]
  },
  {
   "cell_type": "code",
   "execution_count": 2,
   "metadata": {},
   "outputs": [
    {
     "name": "stdout",
     "output_type": "stream",
     "text": [
      "2 2\n",
      "1 2\n",
      "2 3\n",
      "Max= 2\n"
     ]
    }
   ],
   "source": [
    "x=list(map(int,input().split()))\n",
    "r=x[0]\n",
    "c=x[1]\n",
    "\n",
    "mi=list()\n",
    "\n",
    "for i in range(r):\n",
    "    a=list(map(int,input().split()))\n",
    "    mi.append(min(a))\n",
    "\n",
    "print(\"Max=\",max(mi))"
   ]
  },
  {
   "cell_type": "code",
   "execution_count": null,
   "metadata": {},
   "outputs": [],
   "source": []
  }
 ],
 "metadata": {
  "kernelspec": {
   "display_name": "Python 3",
   "language": "python",
   "name": "python3"
  },
  "language_info": {
   "codemirror_mode": {
    "name": "ipython",
    "version": 3
   },
   "file_extension": ".py",
   "mimetype": "text/x-python",
   "name": "python",
   "nbconvert_exporter": "python",
   "pygments_lexer": "ipython3",
   "version": "3.7.3"
  }
 },
 "nbformat": 4,
 "nbformat_minor": 2
}

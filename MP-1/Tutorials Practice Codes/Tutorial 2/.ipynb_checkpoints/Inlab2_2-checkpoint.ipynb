{
 "cells": [
  {
   "cell_type": "code",
   "execution_count": 1,
   "metadata": {},
   "outputs": [
    {
     "name": "stdout",
     "output_type": "stream",
     "text": [
      "Optimization terminated successfully.\n",
      "         Current function value: -2439569.552769\n",
      "         Iterations: 3\n",
      "     con: array([], dtype=float64)\n",
      "     fun: -2439569.5527692763\n",
      " message: 'Optimization terminated successfully.'\n",
      "     nit: 3\n",
      "   slack: array([-3.63797881e-12,  0.00000000e+00,  2.26955474e+03])\n",
      "  status: 0\n",
      " success: True\n",
      "       x: array([24.45009379, 41.42916379])\n"
     ]
    }
   ],
   "source": [
    "import numpy as np\n",
    "import scipy as sp\n",
    "c = [-32000,-40000]\n",
    "A = [[455,350], [280,438], [232,522]]\n",
    "b = [25625,24992,29568]\n",
    "x0_bounds = (0, None)\n",
    "x1_bounds = (0, None)\n",
    "from scipy.optimize import linprog\n",
    "# Solve the problem by Simplex method in Optimization\n",
    "res = linprog(c, A_ub=A, b_ub=b, bounds=(x0_bounds, x1_bounds), method='simplex', options={\"disp\": True})\n",
    "print res"
   ]
  }
 ],
 "metadata": {
  "kernelspec": {
   "display_name": "Python 2",
   "language": "python",
   "name": "python2"
  },
  "language_info": {
   "codemirror_mode": {
    "name": "ipython",
    "version": 2
   },
   "file_extension": ".py",
   "mimetype": "text/x-python",
   "name": "python",
   "nbconvert_exporter": "python",
   "pygments_lexer": "ipython2",
   "version": "2.7.16"
  }
 },
 "nbformat": 4,
 "nbformat_minor": 2
}

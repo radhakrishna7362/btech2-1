{
 "cells": [
  {
   "cell_type": "code",
   "execution_count": 1,
   "metadata": {},
   "outputs": [
    {
     "name": "stdout",
     "output_type": "stream",
     "text": [
      "Optimization terminated successfully.\n",
      "         Current function value: -36.000000  \n",
      "         Iterations: 3\n",
      "     con: array([], dtype=float64)\n",
      "     fun: -36.0\n",
      " message: 'Optimization terminated successfully.'\n",
      "     nit: 3\n",
      "   slack: array([2., 0., 0.])\n",
      "  status: 0\n",
      " success: True\n",
      "       x: array([2., 6.])\n"
     ]
    }
   ],
   "source": [
    "import numpy as np\n",
    "import scipy as sp\n",
    "c = [-3, -5]\n",
    "A = [[1, 0], [0, 2], [3, 2]]\n",
    "b = [4, 12, 18]\n",
    "x0_bounds = (0, None)\n",
    "x1_bounds = (0, None)\n",
    "\n",
    "from scipy.optimize import linprog\n",
    "# Solve the problem by Simplex method in Optimization\n",
    "res = linprog(c, A_ub=A, b_ub=b,  bounds=(x0_bounds, x1_bounds), method='simplex', options={\"disp\": True})\n",
    "print res"
   ]
  }
 ],
 "metadata": {
  "kernelspec": {
   "display_name": "Python 2",
   "language": "python",
   "name": "python2"
  },
  "language_info": {
   "codemirror_mode": {
    "name": "ipython",
    "version": 2
   },
   "file_extension": ".py",
   "mimetype": "text/x-python",
   "name": "python",
   "nbconvert_exporter": "python",
   "pygments_lexer": "ipython2",
   "version": "2.7.16"
  }
 },
 "nbformat": 4,
 "nbformat_minor": 2
}

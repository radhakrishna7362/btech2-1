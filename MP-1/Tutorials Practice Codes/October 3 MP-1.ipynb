{
 "cells": [
  {
   "cell_type": "code",
   "execution_count": 5,
   "metadata": {},
   "outputs": [
    {
     "name": "stdout",
     "output_type": "stream",
     "text": [
      "     con: array([], dtype=float64)\n",
      "     fun: -2656.25\n",
      " message: 'Optimization terminated successfully.'\n",
      "     nit: 2\n",
      "   slack: array([0., 0.])\n",
      "  status: 0\n",
      " success: True\n",
      "       x: array([218.75, 156.25])\n"
     ]
    }
   ],
   "source": [
    "import numpy as np\n",
    "import scipy as sp\n",
    "\n",
    "z=np.array([-5,-10])\n",
    "a=np.array([[2,2],[1,5]])\n",
    "b=np.array([750,1000])\n",
    "x1_bound=(0,None)\n",
    "x2_bound=(0,None)\n",
    "from scipy.optimize import linprog\n",
    "result=linprog(z,A_ub=a,b_ub=b,bounds=[x1_bound,x2_bound])\n",
    "print(result)"
   ]
  },
  {
   "cell_type": "code",
   "execution_count": 9,
   "metadata": {},
   "outputs": [
    {
     "name": "stdout",
     "output_type": "stream",
     "text": [
      "Optimization terminated successfully.\n",
      "         Current function value: -2439569.552769\n",
      "         Iterations: 3\n",
      "     con: array([], dtype=float64)\n",
      "     fun: -2439569.5527692763\n",
      " message: 'Optimization terminated successfully.'\n",
      "     nit: 3\n",
      "   slack: array([-3.63797881e-12,  0.00000000e+00,  2.26955474e+03])\n",
      "  status: 0\n",
      " success: True\n",
      "       x: array([24.45009379, 41.42916379])\n"
     ]
    }
   ],
   "source": [
    "import numpy as np\n",
    "import scipy as sp\n",
    "\n",
    "c=[-32000,-40000]\n",
    "a=[[455,350],[280,438],[232,522]]\n",
    "b=[25625,24992,29568]\n",
    "x1_bound=(0,None)\n",
    "x2_bound=(0,None)\n",
    "from scipy.optimize import linprog\n",
    "result=linprog(c,A_ub=a,b_ub=b,bounds=(x1_bound,x2_bound),method=\"simplex\",options={\"disp\":True})\n",
    "print(result)"
   ]
  },
  {
   "cell_type": "code",
   "execution_count": 30,
   "metadata": {},
   "outputs": [
    {
     "name": "stdout",
     "output_type": "stream",
     "text": [
      "Optimal\n",
      "Variable x1 = 1.0\n",
      "Variable x2 = 2.0\n",
      "Objective function z= 121.0\n"
     ]
    }
   ],
   "source": [
    "from pulp import *\n",
    "\n",
    "prob=LpProblem(\"Dual problem\",LpMinimize)\n",
    "x1=LpVariable(\"x1\",0)\n",
    "x2=LpVariable(\"x2\",0)\n",
    "prob += 21 * x1 + 50 * x2\n",
    "prob += 2*x1+5*x2>=12\n",
    "prob += 3*x1+7*x2>=17\n",
    "prob.solve()\n",
    "print(LpStatus[prob.status])\n",
    "for i in prob.variables():\n",
    "    print(\"Variable {0} = {1}\".format(i.name,i.varValue))\n",
    "print(\"Objective function z= {0}\".format(value(prob.objective)))"
   ]
  },
  {
   "cell_type": "code",
   "execution_count": 7,
   "metadata": {},
   "outputs": [
    {
     "name": "stdout",
     "output_type": "stream",
     "text": [
      "Transportation problem using PULP\n",
      "Status: Optimal\n",
      "x_(1,_1) = 400.0\n",
      "x_(1,_2) = 0.0\n",
      "x_(1,_3) = 0.0\n",
      "x_(1,_4) = 0.0\n",
      "x_(2,_1) = 0.0\n",
      "x_(2,_2) = 600.0\n",
      "x_(2,_3) = 400.0\n",
      "x_(2,_4) = 500.0\n",
      "x_(3,_1) = 300.0\n",
      "x_(3,_2) = 0.0\n",
      "x_(3,_3) = 600.0\n",
      "x_(3,_4) = 0.0\n",
      "Objective function 141000.0\n"
     ]
    }
   ],
   "source": [
    "#transportation problem\n",
    "print \"Transportation problem using PULP\"\n",
    "\n",
    "from pulp import *\n",
    "\n",
    "M=3\n",
    "N=4\n",
    "a=range(1,M+1)\n",
    "al=range(M)\n",
    "b=range(1,N+1)\n",
    "bl=range(N)\n",
    "\n",
    "xindx=[(a[i],b[j]) for j in bl for i in al]\n",
    "\n",
    "model= LpProblem(\"Transportation Problem 1\",LpMinimize)\n",
    "\n",
    "x=LpVariable.dicts(\"x\",xindx,0,None)\n",
    "\n",
    "model += 20.0 * x[1,1] + 40.0 * x[1,2] + 70.0 * x[1,3] + 50.0 * x[1,4] \\\n",
    "+ 100.0 * x[2,1] +  60.0 * x[2,2] + 90.0 * x[2,3] + 80.0 * x[2,4] \\\n",
    "+ 10.0 * x[3,1] + 110.0 * x[3,2] + 30.0 * x[3,3] + 200.0 * x[3,4],\\\n",
    "\"Transportation cost\"\n",
    "\n",
    "model += x[1,1] + x[1,2] + x[1,3] + x[1,4] <=400, \"Supply Pt 1\"\n",
    "model += x[2,1] + x[2,2] + x[2,3] + x[2,4] <=1500, \"Supply Pt 2\"\n",
    "model += x[3,1] + x[3,2] + x[3,3] + x[3,4] <=900, \"Supply Pt 3\"\n",
    "\n",
    "model += x[1,1] + x[2,1] + x[3,1] >=700.0, \"Demand Pt 1\"\n",
    "model += x[1,2] + x[2,2] + x[3,2] >=600.0, \"Demand Pt 2\"\n",
    "model += x[1,3] + x[2,3] + x[3,3] >=1000, \"Demand Pt 3\"\n",
    "model += x[1,4] + x[2,4] + x[3,4] >=500.0, \"Demand Pt 4\"\n",
    "\n",
    "model.solve()\n",
    "\n",
    "print \"Status:\",LpStatus[model.status]\n",
    "\n",
    "for v in model.variables():\n",
    "    print v.name, \"=\", v.varValue\n",
    "    \n",
    "print \"Objective function\",value(model.objective)\n",
    "\n"
   ]
  },
  {
   "cell_type": "code",
   "execution_count": 22,
   "metadata": {},
   "outputs": [
    {
     "name": "stdout",
     "output_type": "stream",
     "text": [
      "Basic Feasible solution is  [((0, 2), 150), ((0, 0), 50), ((1, 1), 120), ((1, 0), 40), ((2, 0), 90)]\n",
      "Total cost= 6460\n"
     ]
    }
   ],
   "source": [
    "def minimum(a,n):\n",
    "    minpos = a.index(min(i for i in a if i>0))\n",
    "    return minpos\n",
    "def Row_Minima(supply,demand,costs):\n",
    "    r=len(costs)\n",
    "    c=len(costs[0])\n",
    "    i=0\n",
    "    j=0\n",
    "    bfs=[]\n",
    "    total=0\n",
    "    while i<r:\n",
    "        j=0\n",
    "        while j<c and supply[i]!=0:\n",
    "            m=minimum(costs[i],len(costs[i]))\n",
    "            if(supply[i]>=demand[m] and demand[m]!=0):\n",
    "                total = total+demand[m]*costs[i][m]\n",
    "                bfs.append(((i,m),demand[m]))\n",
    "                supply[i]=supply[i]-demand[m]\n",
    "                demand[m]=0\n",
    "                for k in range(i,r):\n",
    "                    costs[k][m]=0\n",
    "            elif(supply[i]<=demand[m]and demand[m]!=0):\n",
    "                total = total+supply[i]*costs[i][m]\n",
    "                bfs.append(((i,m),supply[i]))\n",
    "                demand[m]=demand[m]-supply[i]\n",
    "                supply[i]=0\n",
    "                costs[i][m]=0\n",
    "            j=j+1\n",
    "        i=i+1\n",
    "    print \"Basic Feasible solution is \",bfs\n",
    "    print \"Total cost=\",total\n",
    "    return\n",
    "\n",
    "supply=[200,160,90]\n",
    "demand=[180,120,150]\n",
    "costs=[[16,20,12],[14,8,18],[26,24,16]]\n",
    "Row_Minima(supply,demand,costs)"
   ]
  },
  {
   "cell_type": "code",
   "execution_count": 1,
   "metadata": {},
   "outputs": [
    {
     "name": "stdout",
     "output_type": "stream",
     "text": [
      "Basic Feasible solution is  [((0, 0), 40), ((0, 1), 40), ((1, 3), 60), ((2, 1), 20), ((2, 2), 50)]\n",
      "Total cost= 1010\n"
     ]
    }
   ],
   "source": [
    "def minimum(a,n):\n",
    "    minpos = a.index(min(i for i in a if i>0))\n",
    "    return minpos\n",
    "def Row_Minima(supply,demand,costs):\n",
    "    r=len(costs)\n",
    "    c=len(costs[0])\n",
    "    i=0\n",
    "    j=0\n",
    "    bfs=[]\n",
    "    total=0\n",
    "    while i<r:\n",
    "        j=0\n",
    "        while j<c and supply[i]!=0:\n",
    "            m=minimum(costs[i],len(costs[i]))\n",
    "            if(supply[i]>=demand[m] and demand[m]!=0):\n",
    "                total = total+demand[m]*costs[i][m]\n",
    "                bfs.append(((i,m),demand[m]))\n",
    "                supply[i]=supply[i]-demand[m]\n",
    "                demand[m]=0\n",
    "                for k in range(i,r):\n",
    "                    costs[k][m]=0\n",
    "            elif(supply[i]<=demand[m]and demand[m]!=0):\n",
    "                total = total+supply[i]*costs[i][m]\n",
    "                bfs.append(((i,m),supply[i]))\n",
    "                demand[m]=demand[m]-supply[i]\n",
    "                supply[i]=0\n",
    "                costs[i][m]=0\n",
    "            j=j+1\n",
    "        i=i+1\n",
    "    print \"Basic Feasible solution is \",bfs\n",
    "    print \"Total cost=\",total\n",
    "    return\n",
    "\n",
    "supply=[80,60,70]\n",
    "demand=[40,60,50,60]\n",
    "costs=[[3,5,7,6],[2,5,8,2],[3,6,9,2]]\n",
    "Row_Minima(supply,demand,costs)"
   ]
  },
  {
   "cell_type": "code",
   "execution_count": 2,
   "metadata": {},
   "outputs": [
    {
     "name": "stdout",
     "output_type": "stream",
     "text": [
      "Basic Feasible solution is  [((0, 3), 7), ((1, 1), 8), ((1, 2), 1), ((2, 3), 7), ((2, 0), 5), ((2, 2), 6)]\n",
      "Total cost= 1110\n"
     ]
    }
   ],
   "source": [
    "def minimum(a,n):\n",
    "    minpos = a.index(min(i for i in a if i>0))\n",
    "    return minpos\n",
    "def Row_Minima(supply,demand,costs):\n",
    "    r=len(costs)\n",
    "    c=len(costs[0])\n",
    "    i=0\n",
    "    j=0\n",
    "    bfs=[]\n",
    "    total=0\n",
    "    while i<r:\n",
    "        j=0\n",
    "        while j<c and supply[i]!=0:\n",
    "            m=minimum(costs[i],len(costs[i]))\n",
    "            if(supply[i]>=demand[m] and demand[m]!=0):\n",
    "                total = total+demand[m]*costs[i][m]\n",
    "                bfs.append(((i,m),demand[m]))\n",
    "                supply[i]=supply[i]-demand[m]\n",
    "                demand[m]=0\n",
    "                for k in range(i,r):\n",
    "                    costs[k][m]=0\n",
    "            elif(supply[i]<=demand[m]and demand[m]!=0):\n",
    "                total = total+supply[i]*costs[i][m]\n",
    "                bfs.append(((i,m),supply[i]))\n",
    "                demand[m]=demand[m]-supply[i]\n",
    "                supply[i]=0\n",
    "                costs[i][m]=0\n",
    "            j=j+1\n",
    "        i=i+1\n",
    "    print \"Basic Feasible solution is \",bfs\n",
    "    print \"Total cost=\",total\n",
    "    return\n",
    "\n",
    "supply=[7,9,18]\n",
    "demand=[5,8,7,14]\n",
    "costs=[[19,30,50,10],[70,30,40,60],[40,8,70,20]]\n",
    "Row_Minima(supply,demand,costs)"
   ]
  },
  {
   "cell_type": "code",
   "execution_count": null,
   "metadata": {},
   "outputs": [],
   "source": []
  }
 ],
 "metadata": {
  "kernelspec": {
   "display_name": "Python 2",
   "language": "python",
   "name": "python2"
  },
  "language_info": {
   "codemirror_mode": {
    "name": "ipython",
    "version": 2
   },
   "file_extension": ".py",
   "mimetype": "text/x-python",
   "name": "python",
   "nbconvert_exporter": "python",
   "pygments_lexer": "ipython2",
   "version": "2.7.16"
  }
 },
 "nbformat": 4,
 "nbformat_minor": 2
}

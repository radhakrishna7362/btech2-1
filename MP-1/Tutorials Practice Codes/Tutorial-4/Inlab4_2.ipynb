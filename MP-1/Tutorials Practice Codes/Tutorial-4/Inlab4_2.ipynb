{
 "cells": [
  {
   "cell_type": "code",
   "execution_count": 9,
   "metadata": {},
   "outputs": [
    {
     "name": "stdout",
     "output_type": "stream",
     "text": [
      "Optimal\n",
      "Variable x1 = 0.0\n",
      "Variable x2 = 0.0\n",
      "Variable x3 = 0.00625\n",
      "Objective function z = 5.0\n"
     ]
    }
   ],
   "source": [
    "from pulp import *\n",
    "prob = LpProblem(\"Dual problem\",LpMinimize)\n",
    "# nonnegativity constraints\n",
    "x1=LpVariable(\"x1\",0)\n",
    "x2=LpVariable(\"x2\",0)\n",
    "x3=LpVariable(\"x3\",0)\n",
    "x4=LpVariable(\"x4\",0)\n",
    "# objective function\n",
    "prob += 900 * x1 + 2200 * x2 + 800 * x3, \"Minimum value of 44 * x1 + 40 * x2 + 62 * x3 + 76 * x4\"\n",
    "# main constraints\n",
    "prob += 300*x1 + 400*x2+100*x3<= 2, \"constraint 1\"\n",
    "prob += 100*x1 + 300*x2+200*x3>= 1.25, \"constraint 2\"\n",
    "prob += x1>= 0, \"constraint 3\"\n",
    "prob += x2>= 0, \"constraint 4\"\n",
    "prob += x3>= 0, \"constraint 5\"\n",
    "# The problem is solved using PuLP's choice of Solver\n",
    "prob.solve()\n",
    "print pulp.LpStatus[prob.status]\n",
    "for i in prob.variables():\n",
    "    print \"Variable {0} = {1}\".format(i.name, i.varValue)\n",
    "print \"Objective function z = {0}\".format(pulp.value(prob.objective))"
   ]
  }
 ],
 "metadata": {
  "kernelspec": {
   "display_name": "Python 2",
   "language": "python",
   "name": "python2"
  },
  "language_info": {
   "codemirror_mode": {
    "name": "ipython",
    "version": 2
   },
   "file_extension": ".py",
   "mimetype": "text/x-python",
   "name": "python",
   "nbconvert_exporter": "python",
   "pygments_lexer": "ipython2",
   "version": "2.7.16"
  }
 },
 "nbformat": 4,
 "nbformat_minor": 2
}

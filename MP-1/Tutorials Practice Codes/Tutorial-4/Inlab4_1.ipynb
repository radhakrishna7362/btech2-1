{
 "cells": [
  {
   "cell_type": "code",
   "execution_count": 1,
   "metadata": {},
   "outputs": [
    {
     "name": "stdout",
     "output_type": "stream",
     "text": [
      "Optimal\n",
      "Variable x1 = 1.0\n",
      "Variable x2 = 2.0\n",
      "Objective function z = 121.0\n"
     ]
    }
   ],
   "source": [
    "from pulp import *\n",
    "from fractions import Fraction\n",
    "prob = LpProblem(\"Dual problem\",LpMinimize)\n",
    "# nonnegativity constraints\n",
    "x1=LpVariable(\"x1\",0)\n",
    "x2=LpVariable(\"x2\",0)\n",
    "# objective function\n",
    "prob += 21*x1 + 50*x2, \"Minimum value of 21*x1 + 50*x2\"\n",
    "# main constraints\n",
    "prob += 2 * x1 + 5* x2 >= 12, \"constraint 1\"\n",
    "prob += 3 * x1 + 7 * x2 >= 17, \"constraint 2\"\n",
    "# The problem is solved using PuLP's choice of Solver\n",
    "prob.solve()\n",
    "print pulp.LpStatus[prob.status]\n",
    "for i in prob.variables():\n",
    "    print \"Variable {0} = {1}\".format(i.name, i.varValue)\n",
    "print \"Objective function z = {0}\".format(pulp.value(prob.objective))"
   ]
  }
 ],
 "metadata": {
  "kernelspec": {
   "display_name": "Python 2",
   "language": "python",
   "name": "python2"
  },
  "language_info": {
   "codemirror_mode": {
    "name": "ipython",
    "version": 2
   },
   "file_extension": ".py",
   "mimetype": "text/x-python",
   "name": "python",
   "nbconvert_exporter": "python",
   "pygments_lexer": "ipython2",
   "version": "2.7.16"
  }
 },
 "nbformat": 4,
 "nbformat_minor": 2
}

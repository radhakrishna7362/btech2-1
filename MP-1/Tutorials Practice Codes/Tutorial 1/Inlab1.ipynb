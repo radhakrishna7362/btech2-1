{
 "cells": [
  {
   "cell_type": "code",
   "execution_count": 1,
   "metadata": {},
   "outputs": [
    {
     "name": "stdout",
     "output_type": "stream",
     "text": [
      "Problem:\n",
      "MAXIMIZE\n",
      "17.1667*x + 25.8667*y + 0.0\n",
      "SUBJECT TO\n",
      "_C1: 13 x + 19 y <= 2400\n",
      "\n",
      "_C2: 20 x + 29 y <= 2100\n",
      "\n",
      "_C3: x >= 10\n",
      "\n",
      "_C4: x >= 0\n",
      "\n",
      "_C5: y >= 0\n",
      "\n",
      "VARIABLES\n",
      "x Continuous\n",
      "y Continuous\n",
      "\n",
      "Optimal\n",
      "10.0 65.517241 1866.38181777\n"
     ]
    }
   ],
   "source": [
    "# import the library pulp as p \n",
    "import pulp as p \n",
    "# Create a LP Minimization problem \n",
    "Lp_prob = p.LpProblem('Problem', p.LpMaximize)  \n",
    "# Create problem Variables  \n",
    "x = p.LpVariable(\"x\", lowBound = 0)   # Create a variable x >= 0 \n",
    "y = p.LpVariable(\"y\", lowBound = 0)   # Create a variable y >= 0 \n",
    "# Objective Function \n",
    "Lp_prob += 17.1667 * x + 25.8667 * y    \n",
    "# Constraints: \n",
    "Lp_prob +=  13 * x + 19 * y <= 2400\n",
    "Lp_prob +=  20 * x + 29 * y <= 2100\n",
    "Lp_prob += x >= 10\n",
    "Lp_prob += x >= 0\n",
    "Lp_prob += y >= 0\n",
    "# Display the problem\n",
    "print(Lp_prob) \n",
    "status = Lp_prob.solve()   # Solver \n",
    "print p.LpStatus[status]  \n",
    "# Printing the final solution \n",
    "print p.value(x), p.value(y), p.value(Lp_prob.objective) "
   ]
  }
 ],
 "metadata": {
  "kernelspec": {
   "display_name": "Python 2",
   "language": "python",
   "name": "python2"
  },
  "language_info": {
   "codemirror_mode": {
    "name": "ipython",
    "version": 2
   },
   "file_extension": ".py",
   "mimetype": "text/x-python",
   "name": "python",
   "nbconvert_exporter": "python",
   "pygments_lexer": "ipython2",
   "version": "2.7.16"
  }
 },
 "nbformat": 4,
 "nbformat_minor": 2
}
